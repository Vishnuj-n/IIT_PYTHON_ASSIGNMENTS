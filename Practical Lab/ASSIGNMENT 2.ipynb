{
  "cells": [
    {
      "cell_type": "code",
      "execution_count": null,
      "metadata": {
        "colab": {
          "base_uri": "https://localhost:8080/"
        },
        "id": "vCoTnIjDnmxR",
        "outputId": "719d37d6-d5a1-468a-a96e-065542418442"
      },
      "outputs": [
        {
          "name": "stdout",
          "output_type": "stream",
          "text": [
            "Enter a floating-point number: 10\n",
            "Rounded value: 10\n",
            "Integer value: 10\n",
            "Absolute value: 10.0\n",
            "\n",
            "Difference:\n",
            "round() rounds to the nearest integer (may go up or down).\n",
            "int() truncates the decimal part (always towards zero).\n",
            "\n",
            "Enter a list of integers separated by spaces: 1 2 3 4 5\n",
            "Largest (max): 5\n",
            "Smallest (min): 1\n",
            "Total (sum): 15\n"
          ]
        }
      ],
      "source": [
        "# Floating-point operations\n",
        "num = float(input(\"Enter a floating-point number: \"))\n",
        "print(\"Rounded value:\", round(num))\n",
        "print(\"Integer value:\", int(num))\n",
        "print(\"Absolute value:\", abs(num))\n",
        "\n",
        "print(\"\\nDifference:\")\n",
        "print(\"round() rounds to the nearest integer (may go up or down).\")\n",
        "print(\"int() truncates the decimal part (always towards zero).\")\n",
        "\n",
        "# List operations\n",
        "lst = input(\"\\nEnter a list of integers separated by spaces: \")\n",
        "lst = [int(x) for x in lst.split()]\n",
        "print(\"Largest (max):\", max(lst))\n",
        "print(\"Smallest (min):\", min(lst))\n",
        "print(\"Total (sum):\", sum(lst))\n"
      ]
    },
    {
      "cell_type": "code",
      "execution_count": null,
      "metadata": {
        "colab": {
          "base_uri": "https://localhost:8080/"
        },
        "id": "mw689ix0nm8q",
        "outputId": "f84450b3-525b-4c72-c66c-bb1c7fd7ebbf"
      },
      "outputs": [
        {
          "name": "stdout",
          "output_type": "stream",
          "text": [
            "Enter a string: hello\n",
            "Length: 5\n",
            "Sorted character list: ['e', 'h', 'l', 'l', 'o']\n",
            "Type of sorted result: <class 'list'>\n"
          ]
        }
      ],
      "source": [
        "#2\n",
        "s = input(\"Enter a string: \")\n",
        "print(\"Length:\", len(s))\n",
        "print(\"Sorted character list:\", sorted(s))\n",
        "print(\"Type of sorted result:\", type(sorted(s)))\n"
      ]
    },
    {
      "cell_type": "code",
      "execution_count": null,
      "metadata": {
        "colab": {
          "base_uri": "https://localhost:8080/"
        },
        "id": "DQiPfn5pnnDy",
        "outputId": "def63c7f-c002-4a89-875c-9dcfb403e9aa"
      },
      "outputs": [
        {
          "name": "stdout",
          "output_type": "stream",
          "text": [
            "Enter the base number: 2\n",
            "Enter the exponent: 3\n",
            "Using pow(): 8.0\n",
            "Using ** operator: 8.0\n",
            "Both pow() and ** give the same result for real numbers.\n"
          ]
        }
      ],
      "source": [
        "#3 Both pow() and ** give the same result for real numbers.\n",
        "a = float(input(\"Enter the base number: \"))\n",
        "b = float(input(\"Enter the exponent: \"))\n",
        "print(\"Using pow():\", pow(a, b))\n",
        "print(\"Using ** operator:\", a ** b)\n",
        "if pow(a, b) == a ** b:\n",
        "  print(\"Both pow() and ** give the same result for real numbers.\")\n",
        "else:\n",
        "  print(\"The results are different for real numbers.\")\n"
      ]
    },
    {
      "cell_type": "code",
      "execution_count": null,
      "metadata": {
        "colab": {
          "base_uri": "https://localhost:8080/"
        },
        "id": "cKvwKgUWnnJE",
        "outputId": "f5f6b8c2-643d-4f0d-d97e-c3bf4584a139"
      },
      "outputs": [
        {
          "name": "stdout",
          "output_type": "stream",
          "text": [
            "Enter a string: hello hello nameste mello\n",
            "Enter a substring to search: ello\n",
            "Substring 'ello' found at index 1.\n",
            "Substring 'ello' appears 3 times.\n"
          ]
        }
      ],
      "source": [
        "#4 substring exists in the original string : if yes : count , index\n",
        "s = input(\"Enter a string: \")\n",
        "sub = input(\"Enter a substring to search: \")\n",
        "index = s.find(sub)\n",
        "count = s.count(sub)\n",
        "if index != -1:\n",
        "    print(f\"Substring '{sub}' found at index {index}.\")\n",
        "else:\n",
        "    print(f\"Substring '{sub}' not found.\")\n",
        "print(f\"Substring '{sub}' appears {count} times.\")\n"
      ]
    },
    {
      "cell_type": "code",
      "execution_count": null,
      "metadata": {
        "colab": {
          "base_uri": "https://localhost:8080/"
        },
        "id": "rzrQfXgbnnNh",
        "outputId": "b42278b0-0d04-4d6d-966c-33ab3274c005"
      },
      "outputs": [
        {
          "name": "stdout",
          "output_type": "stream",
          "text": [
            "Enter a string: my name is Vishnu J Narayanan\n",
            "First 5 characters: my na\n",
            "Last 5 characters: yanan\n",
            "Characters from position 3 to 8 (excluding 8): name \n"
          ]
        }
      ],
      "source": [
        "#5 display the first 5 characters, the last 5 characters, and the characters from position 3 to position 8 (excluding 8)\n",
        "s = input(\"Enter a string: \")\n",
        "print(\"First 5 characters:\", s[:5])\n",
        "print(\"Last 5 characters:\", s[-5:])\n",
        "print(\"Characters from position 3 to 8 (excluding 8):\", s[3:8])\n"
      ]
    },
    {
      "cell_type": "code",
      "execution_count": null,
      "metadata": {
        "colab": {
          "base_uri": "https://localhost:8080/"
        },
        "id": "g_TDq7uynnRd",
        "outputId": "7f418f18-df8c-4808-edc3-17c22600a930"
      },
      "outputs": [
        {
          "name": "stdout",
          "output_type": "stream",
          "text": [
            "Enter a string: united states of america\n",
            "Alternate characters in reverse order: aieaf easdtn\n"
          ]
        }
      ],
      "source": [
        "#6  Alternate characters in reverse order\n",
        "s = input(\"Enter a string: \")\n",
        "print(\"Alternate characters in reverse order:\", s[::-2])\n"
      ]
    },
    {
      "cell_type": "code",
      "execution_count": null,
      "metadata": {
        "colab": {
          "base_uri": "https://localhost:8080/"
        },
        "id": "xHTog_a-nnVR",
        "outputId": "4f007453-25e0-4cc1-b58a-84a9e712df7c"
      },
      "outputs": [
        {
          "name": "stdout",
          "output_type": "stream",
          "text": [
            "Enter a string: lucknow\n",
            "String with middle character removed: lucnow\n",
            "Reverse with every second character: wncl\n",
            "Substring from index 2 to 8: cknow\n",
            "Substring from middle to end: know\n"
          ]
        }
      ],
      "source": [
        "#7\n",
        "s = input(\"Enter a string: \")\n",
        "\n",
        "# Remove middle character\n",
        "mid = len(s) // 2\n",
        "if len(s) % 2 == 0:\n",
        "    s_no_mid = s  # Even length, no single middle character\n",
        "else:\n",
        "    s_no_mid = s[:mid] + s[mid+1:]\n",
        "print(\"String with middle character removed:\", s_no_mid)\n",
        "\n",
        "# Reverse with every second character\n",
        "print(\"Reverse with every second character:\", s[::-2])\n",
        "\n",
        "# Substring from index 2 to 8\n",
        "print(\"Substring from index 2 to 8:\", s[2:8])\n",
        "\n",
        "# Substring from middle to end\n",
        "print(\"Substring from middle to end:\", s[mid:])\n"
      ]
    },
    {
      "cell_type": "code",
      "execution_count": null,
      "metadata": {
        "colab": {
          "base_uri": "https://localhost:8080/"
        },
        "id": "I5qLiCdennY9",
        "outputId": "72039581-a206-4150-87c0-a1e0d8a70409"
      },
      "outputs": [
        {
          "name": "stdout",
          "output_type": "stream",
          "text": [
            "Enter a string: bengaluru\n",
            "After swapping first and last 3 characters: urugalben\n",
            "After removing first and last characters: engalur\n"
          ]
        }
      ],
      "source": [
        "#8\n",
        "s = input(\"Enter a string: \")\n",
        "\n",
        "# Swap first 3 and last 3 characters\n",
        "if len(s) >= 6:\n",
        "    swapped = s[-3:] + s[3:-3] + s[:3]\n",
        "else:\n",
        "    swapped = s[::-1]  # If too short, just reverse for demonstration\n",
        "print(\"After swapping first and last 3 characters:\", swapped)\n",
        "\n",
        "# Remove first and last character\n",
        "if len(s) >= 2:\n",
        "    shortened = s[1:-1]\n",
        "else:\n",
        "    shortened = ''\n",
        "print(\"After removing first and last characters:\", shortened)\n"
      ]
    },
    {
      "cell_type": "code",
      "execution_count": null,
      "metadata": {
        "colab": {
          "base_uri": "https://localhost:8080/"
        },
        "id": "uJ0DVZ_Ynnc0",
        "outputId": "74822c4c-89c4-4299-9d22-1e71aa08d206"
      },
      "outputs": [
        {
          "name": "stdout",
          "output_type": "stream",
          "text": [
            "Welcome to Custom Calculator!\n",
            "Enter first number: 10\n",
            "Enter second number: 5\n",
            "Enter operation (+, -, *, /, %, **, and, or, >, <, ==): +\n",
            "Result: 15\n"
          ]
        }
      ],
      "source": [
        "#9\n",
        "print(\"Welcome to Custom Calculator!\")\n",
        "a = int(input(\"Enter first number: \"))\n",
        "b = int(input(\"Enter second number: \"))\n",
        "op = input(\"Enter operation (+, -, *, /, %, **, and, or, >, <, ==): \")\n",
        "\n",
        "if op == '+':\n",
        "    result = a + b\n",
        "elif op == '-':\n",
        "    result = a - b\n",
        "elif op == '*':\n",
        "    result = a * b\n",
        "elif op == '/':\n",
        "    result = a / b\n",
        "elif op == '%':\n",
        "    result = a % b\n",
        "elif op == '**':\n",
        "    result = a ** b\n",
        "elif op == 'and':\n",
        "    result = a and b\n",
        "elif op == 'or':\n",
        "    result = a or b\n",
        "elif op == '>':\n",
        "    result = a > b\n",
        "elif op == '<':\n",
        "    result = a < b\n",
        "elif op == '==':\n",
        "    result = a == b\n",
        "else:\n",
        "    result = \"Invalid operation\"\n",
        "\n",
        "print(\"Result:\", result)\n"
      ]
    },
    {
      "cell_type": "code",
      "execution_count": null,
      "metadata": {
        "id": "vhy5RVmwnnsq"
      },
      "outputs": [],
      "source": []
    }
  ],
  "metadata": {
    "colab": {
      "provenance": []
    },
    "kernelspec": {
      "display_name": "Python 3",
      "name": "python3"
    },
    "language_info": {
      "name": "python"
    }
  },
  "nbformat": 4,
  "nbformat_minor": 0
}

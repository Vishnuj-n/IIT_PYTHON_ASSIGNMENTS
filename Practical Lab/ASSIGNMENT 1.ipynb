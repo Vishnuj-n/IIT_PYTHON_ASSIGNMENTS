{
  "cells": [
    {
      "cell_type": "code",
      "execution_count": null,
      "metadata": {
        "colab": {
          "base_uri": "https://localhost:8080/"
        },
        "id": "x61sRNfGhPFq",
        "outputId": "25ca696c-2d75-41a4-d055-1df2209a2168"
      },
      "outputs": [
        {
          "name": "stdout",
          "output_type": "stream",
          "text": [
            "15.0 7.5 15.0\n"
          ]
        }
      ],
      "source": [
        "#1. Python performs implicit type conversion when an integer and a float are used in an operation\n",
        "x = 10 + 5.0      # x is 15.0 (float)\n",
        "y = x / 2         # y is 7.5 (float)\n",
        "z = x // 2        # z is 7.0 (float, because x is float)\n",
        "print(x,y,x)"
      ]
    },
    {
      "cell_type": "code",
      "execution_count": null,
      "metadata": {
        "colab": {
          "base_uri": "https://localhost:8080/",
          "height": 204
        },
        "id": "84rlTLmmhPPG",
        "outputId": "03edca2c-2f8b-4dfb-fca0-12d819f87f9b"
      },
      "outputs": [
        {
          "ename": "TypeError",
          "evalue": "can only concatenate str (not \"int\") to str",
          "output_type": "error",
          "traceback": [
            "\u001b[0;31m---------------------------------------------------------------------------\u001b[0m",
            "\u001b[0;31mTypeError\u001b[0m                                 Traceback (most recent call last)",
            "\u001b[0;32m/tmp/ipython-input-8-787882847.py\u001b[0m in \u001b[0;36m<cell line: 0>\u001b[0;34m()\u001b[0m\n\u001b[1;32m      4\u001b[0m \u001b[0ma\u001b[0m \u001b[0;34m=\u001b[0m \u001b[0;34m'100'\u001b[0m\u001b[0;34m\u001b[0m\u001b[0;34m\u001b[0m\u001b[0m\n\u001b[1;32m      5\u001b[0m \u001b[0mb\u001b[0m \u001b[0;34m=\u001b[0m \u001b[0;36m20\u001b[0m\u001b[0;34m\u001b[0m\u001b[0;34m\u001b[0m\u001b[0m\n\u001b[0;32m----> 6\u001b[0;31m \u001b[0mresult\u001b[0m \u001b[0;34m=\u001b[0m \u001b[0ma\u001b[0m \u001b[0;34m+\u001b[0m \u001b[0mb\u001b[0m  \u001b[0;31m# result is 120\u001b[0m\u001b[0;34m\u001b[0m\u001b[0;34m\u001b[0m\u001b[0m\n\u001b[0m\u001b[1;32m      7\u001b[0m \u001b[0mprint\u001b[0m\u001b[0;34m(\u001b[0m\u001b[0mresult\u001b[0m\u001b[0;34m)\u001b[0m\u001b[0;34m\u001b[0m\u001b[0;34m\u001b[0m\u001b[0m\n",
            "\u001b[0;31mTypeError\u001b[0m: can only concatenate str (not \"int\") to str"
          ]
        }
      ],
      "source": [
        "#2. we cannot directly add a string and an integer in Python as Python does not implicitly convert string into int automatically\n",
        "# we use int() to do so\n",
        "\n",
        "a = '100'\n",
        "b = 20\n",
        "result = a + b\n"
      ]
    },
    {
      "cell_type": "code",
      "execution_count": null,
      "metadata": {
        "colab": {
          "base_uri": "https://localhost:8080/"
        },
        "id": "aWmd-mIuibxB",
        "outputId": "ee1834ee-c5a9-4401-fb94-ba660e7f728c"
      },
      "outputs": [
        {
          "name": "stdout",
          "output_type": "stream",
          "text": [
            "120\n"
          ]
        }
      ],
      "source": [
        "a = '100'\n",
        "b = 20\n",
        "result = int(a) + b  # result is 120\n",
        "print(result)\n"
      ]
    },
    {
      "cell_type": "code",
      "execution_count": null,
      "metadata": {
        "colab": {
          "base_uri": "https://localhost:8080/"
        },
        "id": "8m3ha30Bi8ud",
        "outputId": "4af5bcbf-5e82-4eb6-9688-15a88eb13b4d"
      },
      "outputs": [
        {
          "name": "stdout",
          "output_type": "stream",
          "text": [
            "10 10 15\n"
          ]
        }
      ],
      "source": [
        "#For immutable types like int each variable gets its own copy of the value. Modifying one does not affect the others.\n",
        "a = b = c = 10\n",
        "c+=5\n",
        "print(a,b,c)"
      ]
    },
    {
      "cell_type": "code",
      "execution_count": null,
      "metadata": {
        "colab": {
          "base_uri": "https://localhost:8080/",
          "height": 185
        },
        "id": "S5U3jwm0hPWu",
        "outputId": "603b709f-046e-4138-def5-387decbe3c09"
      },
      "outputs": [
        {
          "ename": "TypeError",
          "evalue": "can only concatenate str (not \"int\") to str",
          "output_type": "error",
          "traceback": [
            "\u001b[0;31m---------------------------------------------------------------------------\u001b[0m",
            "\u001b[0;31mTypeError\u001b[0m                                 Traceback (most recent call last)",
            "\u001b[0;32m/tmp/ipython-input-7-1746076553.py\u001b[0m in \u001b[0;36m<cell line: 0>\u001b[0;34m()\u001b[0m\n\u001b[1;32m      1\u001b[0m \u001b[0mx\u001b[0m \u001b[0;34m=\u001b[0m \u001b[0;36m10\u001b[0m      \u001b[0;31m# x is int\u001b[0m\u001b[0;34m\u001b[0m\u001b[0;34m\u001b[0m\u001b[0m\n\u001b[1;32m      2\u001b[0m \u001b[0mx\u001b[0m \u001b[0;34m=\u001b[0m \u001b[0;34m\"ten\"\u001b[0m   \u001b[0;31m# x is now str\u001b[0m\u001b[0;34m\u001b[0m\u001b[0;34m\u001b[0m\u001b[0m\n\u001b[0;32m----> 3\u001b[0;31m \u001b[0mx\u001b[0m \u001b[0;34m=\u001b[0m \u001b[0mx\u001b[0m \u001b[0;34m+\u001b[0m \u001b[0;36m5\u001b[0m   \u001b[0;31m# TypeError\u001b[0m\u001b[0;34m\u001b[0m\u001b[0;34m\u001b[0m\u001b[0m\n\u001b[0m",
            "\u001b[0;31mTypeError\u001b[0m: can only concatenate str (not \"int\") to str"
          ]
        }
      ],
      "source": [
        "#4. a variable can change its type at runtime.\n",
        "x = 10      # x is int\n",
        "x = \"ten\"   # x is now str\n",
        "x = x + 5   # TypeError\n",
        "\n",
        "#Dynamic Typing: Variable types are determined at runtime.\n",
        "#Type Safety: Python checks types at runtime, so type errors are only caught when the problematic code is executed."
      ]
    },
    {
      "cell_type": "code",
      "execution_count": null,
      "metadata": {
        "colab": {
          "base_uri": "https://localhost:8080/"
        },
        "id": "9_m-8KDihPdd",
        "outputId": "3e0f0ec4-2860-4cbb-eb1a-7657319db0be"
      },
      "outputs": [
        {
          "name": "stdout",
          "output_type": "stream",
          "text": [
            "2\n"
          ]
        }
      ],
      "source": [
        "#5 .Booleans in Python are subclasses of integers: True is 1, False is 0.\n",
        "#Hence arithmetic operations treat booleans as integers\n",
        "x = True + True + False  # x = 1 + 1 + 0 = 2\n",
        "print(x)"
      ]
    },
    {
      "cell_type": "code",
      "execution_count": null,
      "metadata": {
        "colab": {
          "base_uri": "https://localhost:8080/"
        },
        "id": "-TZAr7NkiPft",
        "outputId": "d9a67668-d027-4515-bc81-8e6f4ba3845c"
      },
      "outputs": [
        {
          "name": "stdout",
          "output_type": "stream",
          "text": [
            "True\n",
            "False\n",
            "False\n",
            "--------\n",
            "True\n",
            "True\n"
          ]
        }
      ],
      "source": [
        "#6\n",
        "#0 == False\n",
        "#'' ==\n",
        "#[] == False\n",
        "print(0==False) # returns True because 0 is considered equivalent to False in Python.\n",
        "print(''==False) #returns False because an empty string is not equal to False\n",
        "print([]==False) # returns False for the same reason: an empty list is not equal to False\n",
        "#but\n",
        "print(\"--------\")\n",
        "print(bool('')==False) #returns True\n",
        "print(bool([])==False) #returns True\n"
      ]
    },
    {
      "cell_type": "code",
      "execution_count": null,
      "metadata": {
        "colab": {
          "base_uri": "https://localhost:8080/"
        },
        "id": "iFY3KCGPiPkR",
        "outputId": "88d1e779-8f1a-4edb-edba-d6fb29de270c"
      },
      "outputs": [
        {
          "name": "stdout",
          "output_type": "stream",
          "text": [
            "Enter an integer: 10\n",
            "1's complement: -11\n",
            "32-bit binary: 11111111111111111111111111110101\n"
          ]
        }
      ],
      "source": [
        "#7\n",
        "n = int(input(\"Enter an integer: \"))\n",
        "ones_complement = ~n\n",
        "print(\"1's complement:\", ones_complement)\n",
        "# 32-bit representation\n",
        "masked = ones_complement & 0xFFFFFFFF\n",
        "print(\"32-bit binary:\", format(masked, '032b'))\n",
        "#Python uses two’s complement for integers. The ~ operator flips all bits, including the sign bit,\n",
        "#so the result is -(n+1) for positive n. So we get negative\n",
        "#32-bit mask: & 0xFFFFFFFF ensures the result is shown as a 32-bit unsigned value.#"
      ]
    },
    {
      "cell_type": "code",
      "execution_count": null,
      "metadata": {
        "colab": {
          "base_uri": "https://localhost:8080/"
        },
        "id": "2z7TmYcLiPoo",
        "outputId": "f0f8d0fb-f961-4075-da14-0686b458ee24"
      },
      "outputs": [
        {
          "name": "stdout",
          "output_type": "stream",
          "text": [
            "Enter integer: 10\n",
            "Rotate by how many bits? 2\n",
            "Left rotate: 00000000000000000000000000101000\n",
            "Right rotate: 10000000000000000000000000000010\n"
          ]
        }
      ],
      "source": [
        "#8\n",
        "def rotate_left(n, d, bits=32):\n",
        "    return ((n << d) | (n >> (bits - d))) & (2**bits - 1)\n",
        "\n",
        "def rotate_right(n, d, bits=32):\n",
        "    return ((n >> d) | (n << (bits - d))) & (2**bits - 1)\n",
        "\n",
        "num = int(input(\"Enter integer: \"))\n",
        "d = int(input(\"Rotate by how many bits? \"))\n",
        "print(\"Left rotate:\", format(rotate_left(num, d), '032b'))\n",
        "print(\"Right rotate:\", format(rotate_right(num, d), '032b'))\n"
      ]
    },
    {
      "cell_type": "code",
      "execution_count": null,
      "metadata": {
        "colab": {
          "base_uri": "https://localhost:8080/"
        },
        "id": "zvN8eIojiPsb",
        "outputId": "48ab00a7-9baf-411a-97d4-3dbc7ddc35ca"
      },
      "outputs": [
        {
          "name": "stdout",
          "output_type": "stream",
          "text": [
            "Enter integer: 5\n",
            "Left shift by 1: 10\n",
            "Left shift by 2: 20\n",
            "Right shift by 1: 2\n",
            "Right shift by 2: 1\n"
          ]
        }
      ],
      "source": [
        "#9\n",
        "n = int(input(\"Enter integer: \"))\n",
        "print(\"Left shift by 1:\", n << 1)\n",
        "print(\"Left shift by 2:\", n << 2)\n",
        "print(\"Right shift by 1:\", n >> 1)\n",
        "print(\"Right shift by 2:\", n >> 2)\n",
        "#Left shift (<<) = multiply by 2^n\n",
        "#Right shift (>>) = integer divide by 2^n\n",
        "\n",
        "#Reason:\n",
        "\n",
        "#This is caused due to the binary representation of numbers, where each bit represents a power of two.\n",
        "#When you left shift a number by n bits, all the bits move n positions to the left, effectively adding n zeros at the end.\n",
        "#This increases the value by a factor of 2ⁿ, just like appending a zero in decimal multiplies a number by 10.\n",
        "\n",
        "#Similarly, right shifting a number by n bits moves the bits n positions to the right, effectively discarding the least significant bits.\n",
        "#This divides the number by 2ⁿ and drops any remainder, mimicking floor division."
      ]
    },
    {
      "cell_type": "code",
      "execution_count": null,
      "metadata": {
        "colab": {
          "base_uri": "https://localhost:8080/"
        },
        "id": "voyyS2-EiPwO",
        "outputId": "91b37723-a334-4fd4-ca06-8375babeda98"
      },
      "outputs": [
        {
          "name": "stdout",
          "output_type": "stream",
          "text": [
            "Enter first number: 5\n",
            "Enter second number: 10\n",
            "Enter third number: 15\n",
            "Division of sum by product: 0.04\n",
            "Average: 10.0\n",
            "Product of first and third: 75.0\n",
            "Difference (max - min): 10.0\n"
          ]
        }
      ],
      "source": [
        "#10\n",
        "a = float(input(\"Enter first number: \"))\n",
        "b = float(input(\"Enter second number: \"))\n",
        "c = float(input(\"Enter third number: \"))\n",
        "\n",
        "average = (a + b + c) / 3\n",
        "product = a * c\n",
        "difference = max(a, b, c) - min(a, b, c)\n",
        "sum_all = a + b + c\n",
        "product_all = a * b * c\n",
        "\n",
        "if product_all != 0:\n",
        "    division_result = sum_all / product_all\n",
        "    print(f\"Division of sum by product: {division_result}\")\n",
        "else:\n",
        "    print(\"Division by zero error: product is zero.\")\n",
        "\n",
        "print(f\"Average: {average}\")\n",
        "print(f\"Product of first and third: {product}\")\n",
        "print(f\"Difference (max - min): {difference}\")\n"
      ]
    }
  ],
  "metadata": {
    "colab": {
      "provenance": []
    },
    "kernelspec": {
      "display_name": "Python 3",
      "name": "python3"
    },
    "language_info": {
      "name": "python"
    }
  },
  "nbformat": 4,
  "nbformat_minor": 0
}

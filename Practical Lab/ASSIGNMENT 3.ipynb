{
  "cells": [
    {
      "cell_type": "code",
      "execution_count": 32,
      "metadata": {
        "colab": {
          "base_uri": "https://localhost:8080/"
        },
        "id": "tH19DxtCPf8n",
        "outputId": "01713845-509d-4a0d-b75b-33ccb795c888"
      },
      "outputs": [
        {
          "name": "stdout",
          "output_type": "stream",
          "text": [
            "7\n"
          ]
        }
      ],
      "source": [
        "#1 i)\n",
        "#add(3, 4) calls the function add() with parameter a=3 and b=4\n",
        "#returns 3 + 4 = 7\n",
        "def add (a, b):\n",
        "\treturn a + b\n",
        "result = add (3, 4)\n",
        "print (result)\n"
      ]
    },
    {
      "cell_type": "code",
      "execution_count": 2,
      "metadata": {
        "colab": {
          "base_uri": "https://localhost:8080/"
        },
        "id": "W0gFxhYNPvpR",
        "outputId": "0b37cdac-79bb-40c1-bd89-414409d2f7d3"
      },
      "outputs": [
        {
          "name": "stdout",
          "output_type": "stream",
          "text": [
            "Hi Alice\n"
          ]
        }
      ],
      "source": [
        "#ii)\n",
        "# say_hi (\"Alice\") calls the function say_hi() with parameter name=\"Alice\"\n",
        "#it prints Hi Alice\n",
        "def say_hi (name):\n",
        "\tprint (\"Hi\", name)\n",
        "say_hi (\"Alice\")"
      ]
    },
    {
      "cell_type": "code",
      "execution_count": 3,
      "metadata": {
        "colab": {
          "base_uri": "https://localhost:8080/"
        },
        "id": "9SusgVUjPzB6",
        "outputId": "8ea4c35c-49e6-446e-8f19-e006ef89cfb8"
      },
      "outputs": [
        {
          "name": "stdout",
          "output_type": "stream",
          "text": [
            "Hello Guest\n",
            "Hello John\n"
          ]
        }
      ],
      "source": [
        "#iii)\n",
        "#the first greet() calls the function greet() which uses the default value \"Guest\" for name.\n",
        "# greet (\"John\") calls the function greet() with parameter name=\"John\"\n",
        "# fist prints : Hello Guest | second prints : Hello John\n",
        "def greet (name = \"Guest\"):\n",
        "\tprint (\"Hello\", name)\n",
        "greet ()\n",
        "greet (\"John\")\n"
      ]
    },
    {
      "cell_type": "code",
      "execution_count": 4,
      "metadata": {
        "colab": {
          "base_uri": "https://localhost:8080/"
        },
        "id": "WxpA4i1LPzMl",
        "outputId": "91aa4377-2b18-42fd-cbfa-48571d4c65f9"
      },
      "outputs": [
        {
          "name": "stdout",
          "output_type": "stream",
          "text": [
            "6\n",
            "8\n",
            "10\n"
          ]
        }
      ],
      "source": [
        "#iv)\n",
        "#func(1) -> a=1, uses defaults b=2, c=3\n",
        "#func(1, 4) -> a=1, b=4, default c=3\n",
        "#func(1, 4, 5) _> All arguments provided\n",
        "def func (a, b = 2, c = 3):\n",
        "\treturn a + b + c\n",
        "print (func (1))\n",
        "print (func (1, 4))\n",
        "print (func (1, 4, 5))\n"
      ]
    },
    {
      "cell_type": "code",
      "execution_count": 6,
      "metadata": {
        "colab": {
          "base_uri": "https://localhost:8080/"
        },
        "id": "9eA7N_RmPzV8",
        "outputId": "929648de-3caa-46ad-9963-92ee074f3716"
      },
      "outputs": [
        {
          "name": "stdout",
          "output_type": "stream",
          "text": [
            "25\n",
            "50\n"
          ]
        }
      ],
      "source": [
        "#2\n",
        "#returns square of n\n",
        "def square(n):\n",
        "  return n*n\n",
        "\n",
        "#calculates area of square\n",
        "def calculate_area(length,breadth):\n",
        "  return length*breadth\n",
        "\n",
        "print(square(5))\n",
        "print(calculate_area(5,10))"
      ]
    },
    {
      "cell_type": "code",
      "execution_count": 11,
      "metadata": {
        "colab": {
          "base_uri": "https://localhost:8080/",
          "height": 193
        },
        "id": "AZbacSLNRfvo",
        "outputId": "da9b3387-c6b3-4fd6-b364-7d1049b207d7"
      },
      "outputs": [
        {
          "name": "stdout",
          "output_type": "stream",
          "text": [
            "(25, 125)\n"
          ]
        },
        {
          "ename": "TypeError",
          "evalue": "multi_value() takes 1 positional argument but 2 were given",
          "output_type": "error",
          "traceback": [
            "\u001b[0;31m---------------------------------------------------------------------------\u001b[0m",
            "\u001b[0;31mTypeError\u001b[0m                                 Traceback (most recent call last)",
            "\u001b[0;32m/tmp/ipython-input-11-3546072277.py\u001b[0m in \u001b[0;36m<cell line: 0>\u001b[0;34m()\u001b[0m\n\u001b[1;32m      6\u001b[0m \u001b[0;34m\u001b[0m\u001b[0m\n\u001b[1;32m      7\u001b[0m \u001b[0mprint\u001b[0m\u001b[0;34m(\u001b[0m\u001b[0mmulti_value\u001b[0m\u001b[0;34m(\u001b[0m\u001b[0;36m5\u001b[0m\u001b[0;34m)\u001b[0m\u001b[0;34m)\u001b[0m\u001b[0;34m\u001b[0m\u001b[0;34m\u001b[0m\u001b[0m\n\u001b[0;32m----> 8\u001b[0;31m \u001b[0mmulti_value\u001b[0m\u001b[0;34m(\u001b[0m\u001b[0;36m5\u001b[0m\u001b[0;34m,\u001b[0m\u001b[0;36m10\u001b[0m\u001b[0;34m)\u001b[0m\u001b[0;34m\u001b[0m\u001b[0;34m\u001b[0m\u001b[0m\n\u001b[0m",
            "\u001b[0;31mTypeError\u001b[0m: multi_value() takes 1 positional argument but 2 were given"
          ]
        }
      ],
      "source": [
        "#3\n",
        "#yes using tuples,list we can return multipl values\n",
        "#passing more arguments than it is defined to accept causes type error at run time\n",
        "\n",
        "def multi_value(n):\n",
        "  return (n*n,n*n*n)\n",
        "\n",
        "print(multi_value(5))\n",
        "#passing more arguments than it is defined to accept\n",
        "multi_value(5,10)"
      ]
    },
    {
      "cell_type": "code",
      "execution_count": 10,
      "metadata": {
        "colab": {
          "base_uri": "https://localhost:8080/"
        },
        "id": "_wGGc-6nRf8j",
        "outputId": "0cf1e4c6-964b-49ad-ff89-345490a44078"
      },
      "outputs": [
        {
          "name": "stdout",
          "output_type": "stream",
          "text": [
            "(25, 125)\n"
          ]
        }
      ],
      "source": [
        "#PRINT MULTIPLE VALUES\n",
        "print(multi_value(5))"
      ]
    },
    {
      "cell_type": "code",
      "execution_count": 14,
      "metadata": {
        "colab": {
          "base_uri": "https://localhost:8080/"
        },
        "id": "Q3X3CEUhRhF-",
        "outputId": "b9ee7405-106f-4293-e0f0-daeb8248d097"
      },
      "outputs": [
        {
          "name": "stdout",
          "output_type": "stream",
          "text": [
            "['hello', 'world']\n",
            "['hello world']\n",
            "['hello', 'world', 'peace']\n"
          ]
        }
      ],
      "source": [
        "#4\n",
        "#output of \"hello world\" .split() is list of ['hello', 'world'] with 2 elements\n",
        "print(\"hello world\".split())\n",
        "#output of \"hello world\" .split(',') is a list of ['hello world'] with 1 element\n",
        "#this happens because we give , as the criteria to split but there are no comma is \"hello world\"\n",
        "#causing to return the entire thing as a single element in the list without splitting\n",
        "print(\"hello world\".split(','))\n",
        "#here .split(',') is used to use ',' to split the string\n",
        "print(\"hello,world,peace\".split(','))"
      ]
    },
    {
      "cell_type": "code",
      "execution_count": 20,
      "metadata": {
        "colab": {
          "base_uri": "https://localhost:8080/"
        },
        "id": "5rlQrgnURhny",
        "outputId": "726155b6-fb9f-4497-877e-25c81e35b281"
      },
      "outputs": [
        {
          "name": "stdout",
          "output_type": "stream",
          "text": [
            "a#b#c\n",
            "a-b-c\n"
          ]
        }
      ],
      "source": [
        "#join() method takes all items in an iterable and joins them into one string.\n",
        "#.join() accepts any iterable like list,but each element in it must be a string.\n",
        "print(\"#\".join(['a', 'b', 'c']))\n",
        "print(\"-\".join(['a', 'b', 'c']))"
      ]
    },
    {
      "cell_type": "code",
      "execution_count": 28,
      "metadata": {
        "colab": {
          "base_uri": "https://localhost:8080/"
        },
        "id": "seq7S1_EWMfI",
        "outputId": "79db2a97-6393-4ed3-802d-4bf505c1d93d"
      },
      "outputs": [
        {
          "name": "stdout",
          "output_type": "stream",
          "text": [
            "Hello, my name is Rishabh My mom is my World\n",
            "Labs\n",
            "[1, 2, 3, 4, 5]\n",
            "[1, 2, 3, 4, 5, [4, 5]]\n"
          ]
        }
      ],
      "source": [
        "#5\n",
        "print(\"Hello, my name is Rishabh\"+\" \"+\"My mom is my World\")\n",
        "print(\"Lab\"+\"s\")\n",
        "list1 = [1,2,3]\n",
        "list2 = [4,5]\n",
        "list1 += list2\n",
        "# list1 += list2 gives a combined list of both\n",
        "print(list1)\n",
        "#append() adds whole list list2 as a single item in list1\n",
        "list1.append(list2)\n",
        "print(list1)"
      ]
    },
    {
      "cell_type": "code",
      "execution_count": 29,
      "metadata": {
        "colab": {
          "base_uri": "https://localhost:8080/",
          "height": 297
        },
        "id": "hnLSl86GWMsf",
        "outputId": "56535487-3ebc-4b21-9969-c3695628d041"
      },
      "outputs": [
        {
          "ename": "NameError",
          "evalue": "name 'factorial' is not defined",
          "output_type": "error",
          "traceback": [
            "\u001b[0;31m---------------------------------------------------------------------------\u001b[0m",
            "\u001b[0;31mNameError\u001b[0m                                 Traceback (most recent call last)",
            "\u001b[0;32m/tmp/ipython-input-29-2599082974.py\u001b[0m in \u001b[0;36m<cell line: 0>\u001b[0;34m()\u001b[0m\n\u001b[1;32m      6\u001b[0m      \u001b[0;32mreturn\u001b[0m \u001b[0mn\u001b[0m \u001b[0;34m*\u001b[0m \u001b[0mfactorial\u001b[0m\u001b[0;34m(\u001b[0m\u001b[0mn\u001b[0m \u001b[0;34m-\u001b[0m \u001b[0;36m1\u001b[0m\u001b[0;34m)\u001b[0m \u001b[0;31m# factorial is not defined , we have to use fact\u001b[0m\u001b[0;34m\u001b[0m\u001b[0;34m\u001b[0m\u001b[0m\n\u001b[1;32m      7\u001b[0m \u001b[0;34m\u001b[0m\u001b[0m\n\u001b[0;32m----> 8\u001b[0;31m \u001b[0mfact\u001b[0m \u001b[0;34m(\u001b[0m\u001b[0;36m10\u001b[0m\u001b[0;34m)\u001b[0m\u001b[0;34m\u001b[0m\u001b[0;34m\u001b[0m\u001b[0m\n\u001b[0m",
            "\u001b[0;32m/tmp/ipython-input-29-2599082974.py\u001b[0m in \u001b[0;36mfact\u001b[0;34m(n)\u001b[0m\n\u001b[1;32m      4\u001b[0m     \u001b[0;32mreturn\u001b[0m \u001b[0;36m1\u001b[0m\u001b[0;34m\u001b[0m\u001b[0;34m\u001b[0m\u001b[0m\n\u001b[1;32m      5\u001b[0m   \u001b[0;32melse\u001b[0m\u001b[0;34m:\u001b[0m\u001b[0;34m\u001b[0m\u001b[0;34m\u001b[0m\u001b[0m\n\u001b[0;32m----> 6\u001b[0;31m      \u001b[0;32mreturn\u001b[0m \u001b[0mn\u001b[0m \u001b[0;34m*\u001b[0m \u001b[0mfactorial\u001b[0m\u001b[0;34m(\u001b[0m\u001b[0mn\u001b[0m \u001b[0;34m-\u001b[0m \u001b[0;36m1\u001b[0m\u001b[0;34m)\u001b[0m \u001b[0;31m# factorial is not defined , we have to use fact\u001b[0m\u001b[0;34m\u001b[0m\u001b[0;34m\u001b[0m\u001b[0m\n\u001b[0m\u001b[1;32m      7\u001b[0m \u001b[0;34m\u001b[0m\u001b[0m\n\u001b[1;32m      8\u001b[0m \u001b[0mfact\u001b[0m \u001b[0;34m(\u001b[0m\u001b[0;36m10\u001b[0m\u001b[0;34m)\u001b[0m\u001b[0;34m\u001b[0m\u001b[0;34m\u001b[0m\u001b[0m\n",
            "\u001b[0;31mNameError\u001b[0m: name 'factorial' is not defined"
          ]
        }
      ],
      "source": [
        "#6\n",
        "def fact(n):\n",
        "  if n == 0:\n",
        "    return 1\n",
        "  else:\n",
        "     return n * factorial(n - 1) # factorial is not defined , we have to use fact\n",
        "\n",
        "fact (10)"
      ]
    },
    {
      "cell_type": "code",
      "execution_count": 3,
      "metadata": {
        "colab": {
          "base_uri": "https://localhost:8080/"
        },
        "id": "9e_ct17FWM4H",
        "outputId": "5ad3e2fd-f782-42a6-e74b-3529130b6fea"
      },
      "outputs": [
        {
          "data": {
            "text/plain": [
              "3628800"
            ]
          },
          "execution_count": 3,
          "metadata": {},
          "output_type": "execute_result"
        }
      ],
      "source": [
        "def fact(n):\n",
        "    if n == 0:\n",
        "        return 1\n",
        "    else:\n",
        "        return n * fact(n - 1)\n",
        "# returns factorial of 10\n",
        "fact(10)"
      ]
    },
    {
      "cell_type": "code",
      "execution_count": 4,
      "metadata": {
        "colab": {
          "base_uri": "https://localhost:8080/",
          "height": 321
        },
        "id": "8hm2TX0kYcHE",
        "outputId": "dc3e5630-aad2-4587-83d6-ee25b8a7c05b"
      },
      "outputs": [
        {
          "ename": "RecursionError",
          "evalue": "maximum recursion depth exceeded in comparison",
          "output_type": "error",
          "traceback": [
            "\u001b[0;31m---------------------------------------------------------------------------\u001b[0m",
            "\u001b[0;31mRecursionError\u001b[0m                            Traceback (most recent call last)",
            "\u001b[0;32m/tmp/ipython-input-4-1354473612.py\u001b[0m in \u001b[0;36m<cell line: 0>\u001b[0;34m()\u001b[0m\n\u001b[0;32m----> 1\u001b[0;31m \u001b[0mfact\u001b[0m\u001b[0;34m(\u001b[0m\u001b[0;36m4.5\u001b[0m\u001b[0;34m)\u001b[0m\u001b[0;34m\u001b[0m\u001b[0;34m\u001b[0m\u001b[0m\n\u001b[0m",
            "\u001b[0;32m/tmp/ipython-input-3-1543482502.py\u001b[0m in \u001b[0;36mfact\u001b[0;34m(n)\u001b[0m\n\u001b[1;32m      3\u001b[0m         \u001b[0;32mreturn\u001b[0m \u001b[0;36m1\u001b[0m\u001b[0;34m\u001b[0m\u001b[0;34m\u001b[0m\u001b[0m\n\u001b[1;32m      4\u001b[0m     \u001b[0;32melse\u001b[0m\u001b[0;34m:\u001b[0m\u001b[0;34m\u001b[0m\u001b[0;34m\u001b[0m\u001b[0m\n\u001b[0;32m----> 5\u001b[0;31m         \u001b[0;32mreturn\u001b[0m \u001b[0mn\u001b[0m \u001b[0;34m*\u001b[0m \u001b[0mfact\u001b[0m\u001b[0;34m(\u001b[0m\u001b[0mn\u001b[0m \u001b[0;34m-\u001b[0m \u001b[0;36m1\u001b[0m\u001b[0;34m)\u001b[0m\u001b[0;34m\u001b[0m\u001b[0;34m\u001b[0m\u001b[0m\n\u001b[0m\u001b[1;32m      6\u001b[0m \u001b[0;34m\u001b[0m\u001b[0m\n\u001b[1;32m      7\u001b[0m \u001b[0mfact\u001b[0m\u001b[0;34m(\u001b[0m\u001b[0;36m10\u001b[0m\u001b[0;34m)\u001b[0m\u001b[0;34m\u001b[0m\u001b[0;34m\u001b[0m\u001b[0m\n",
            "... last 1 frames repeated, from the frame below ...\n",
            "\u001b[0;32m/tmp/ipython-input-3-1543482502.py\u001b[0m in \u001b[0;36mfact\u001b[0;34m(n)\u001b[0m\n\u001b[1;32m      3\u001b[0m         \u001b[0;32mreturn\u001b[0m \u001b[0;36m1\u001b[0m\u001b[0;34m\u001b[0m\u001b[0;34m\u001b[0m\u001b[0m\n\u001b[1;32m      4\u001b[0m     \u001b[0;32melse\u001b[0m\u001b[0;34m:\u001b[0m\u001b[0;34m\u001b[0m\u001b[0;34m\u001b[0m\u001b[0m\n\u001b[0;32m----> 5\u001b[0;31m         \u001b[0;32mreturn\u001b[0m \u001b[0mn\u001b[0m \u001b[0;34m*\u001b[0m \u001b[0mfact\u001b[0m\u001b[0;34m(\u001b[0m\u001b[0mn\u001b[0m \u001b[0;34m-\u001b[0m \u001b[0;36m1\u001b[0m\u001b[0;34m)\u001b[0m\u001b[0;34m\u001b[0m\u001b[0;34m\u001b[0m\u001b[0m\n\u001b[0m\u001b[1;32m      6\u001b[0m \u001b[0;34m\u001b[0m\u001b[0m\n\u001b[1;32m      7\u001b[0m \u001b[0mfact\u001b[0m\u001b[0;34m(\u001b[0m\u001b[0;36m10\u001b[0m\u001b[0;34m)\u001b[0m\u001b[0;34m\u001b[0m\u001b[0;34m\u001b[0m\u001b[0m\n",
            "\u001b[0;31mRecursionError\u001b[0m: maximum recursion depth exceeded in comparison"
          ]
        }
      ],
      "source": [
        "# gives recursive error as the function was not built to hangle float\n",
        "# as recursive call never reaches a stopping base case (n == 0),\n",
        "fact(4.5)"
      ]
    },
    {
      "cell_type": "code",
      "execution_count": 5,
      "metadata": {
        "colab": {
          "base_uri": "https://localhost:8080/",
          "height": 321
        },
        "id": "0gHnQk9eYvj1",
        "outputId": "4a912318-c7b8-45c3-b8ae-44015f228ea1"
      },
      "outputs": [
        {
          "ename": "RecursionError",
          "evalue": "maximum recursion depth exceeded",
          "output_type": "error",
          "traceback": [
            "\u001b[0;31m---------------------------------------------------------------------------\u001b[0m",
            "\u001b[0;31mRecursionError\u001b[0m                            Traceback (most recent call last)",
            "\u001b[0;32m/tmp/ipython-input-5-2874172109.py\u001b[0m in \u001b[0;36m<cell line: 0>\u001b[0;34m()\u001b[0m\n\u001b[0;32m----> 1\u001b[0;31m \u001b[0mfact\u001b[0m\u001b[0;34m(\u001b[0m\u001b[0;34m-\u001b[0m\u001b[0;36m1\u001b[0m\u001b[0;34m)\u001b[0m\u001b[0;34m\u001b[0m\u001b[0;34m\u001b[0m\u001b[0m\n\u001b[0m",
            "\u001b[0;32m/tmp/ipython-input-3-1543482502.py\u001b[0m in \u001b[0;36mfact\u001b[0;34m(n)\u001b[0m\n\u001b[1;32m      3\u001b[0m         \u001b[0;32mreturn\u001b[0m \u001b[0;36m1\u001b[0m\u001b[0;34m\u001b[0m\u001b[0;34m\u001b[0m\u001b[0m\n\u001b[1;32m      4\u001b[0m     \u001b[0;32melse\u001b[0m\u001b[0;34m:\u001b[0m\u001b[0;34m\u001b[0m\u001b[0;34m\u001b[0m\u001b[0m\n\u001b[0;32m----> 5\u001b[0;31m         \u001b[0;32mreturn\u001b[0m \u001b[0mn\u001b[0m \u001b[0;34m*\u001b[0m \u001b[0mfact\u001b[0m\u001b[0;34m(\u001b[0m\u001b[0mn\u001b[0m \u001b[0;34m-\u001b[0m \u001b[0;36m1\u001b[0m\u001b[0;34m)\u001b[0m\u001b[0;34m\u001b[0m\u001b[0;34m\u001b[0m\u001b[0m\n\u001b[0m\u001b[1;32m      6\u001b[0m \u001b[0;34m\u001b[0m\u001b[0m\n\u001b[1;32m      7\u001b[0m \u001b[0mfact\u001b[0m\u001b[0;34m(\u001b[0m\u001b[0;36m10\u001b[0m\u001b[0;34m)\u001b[0m\u001b[0;34m\u001b[0m\u001b[0;34m\u001b[0m\u001b[0m\n",
            "... last 1 frames repeated, from the frame below ...\n",
            "\u001b[0;32m/tmp/ipython-input-3-1543482502.py\u001b[0m in \u001b[0;36mfact\u001b[0;34m(n)\u001b[0m\n\u001b[1;32m      3\u001b[0m         \u001b[0;32mreturn\u001b[0m \u001b[0;36m1\u001b[0m\u001b[0;34m\u001b[0m\u001b[0;34m\u001b[0m\u001b[0m\n\u001b[1;32m      4\u001b[0m     \u001b[0;32melse\u001b[0m\u001b[0;34m:\u001b[0m\u001b[0;34m\u001b[0m\u001b[0;34m\u001b[0m\u001b[0m\n\u001b[0;32m----> 5\u001b[0;31m         \u001b[0;32mreturn\u001b[0m \u001b[0mn\u001b[0m \u001b[0;34m*\u001b[0m \u001b[0mfact\u001b[0m\u001b[0;34m(\u001b[0m\u001b[0mn\u001b[0m \u001b[0;34m-\u001b[0m \u001b[0;36m1\u001b[0m\u001b[0;34m)\u001b[0m\u001b[0;34m\u001b[0m\u001b[0;34m\u001b[0m\u001b[0m\n\u001b[0m\u001b[1;32m      6\u001b[0m \u001b[0;34m\u001b[0m\u001b[0m\n\u001b[1;32m      7\u001b[0m \u001b[0mfact\u001b[0m\u001b[0;34m(\u001b[0m\u001b[0;36m10\u001b[0m\u001b[0;34m)\u001b[0m\u001b[0;34m\u001b[0m\u001b[0;34m\u001b[0m\u001b[0m\n",
            "\u001b[0;31mRecursionError\u001b[0m: maximum recursion depth exceeded"
          ]
        }
      ],
      "source": [
        "# cause infinte loop as it never reaches n==0\n",
        "fact(-1)"
      ]
    },
    {
      "cell_type": "code",
      "execution_count": 6,
      "metadata": {
        "colab": {
          "base_uri": "https://localhost:8080/"
        },
        "id": "4tlc1W3HYvxx",
        "outputId": "535a3a63-3651-42e2-f237-acec509efc3a"
      },
      "outputs": [
        {
          "data": {
            "text/plain": [
              "1"
            ]
          },
          "execution_count": 6,
          "metadata": {},
          "output_type": "execute_result"
        }
      ],
      "source": [
        "# returns 1 as Base case is triggered\n",
        "fact(0)"
      ]
    },
    {
      "cell_type": "code",
      "execution_count": 7,
      "metadata": {
        "colab": {
          "base_uri": "https://localhost:8080/"
        },
        "id": "4_nODWj6Yv8Y",
        "outputId": "e8cc3f03-398e-4cf7-af1a-f79755f95521"
      },
      "outputs": [
        {
          "name": "stdout",
          "output_type": "stream",
          "text": [
            "Inside function: 20\n",
            "Outside function: 20\n"
          ]
        }
      ],
      "source": [
        "#7 i)\n",
        "# global keyword modifies a variable defined global scope from within local scope\n",
        "# as such var = 20 inside the function changes the var present in global scope\n",
        "var = 10\n",
        "def modify_var():\n",
        "    global var\n",
        "    var = 20\n",
        "    print(\"Inside function:\", var)\n",
        "modify_var()\n",
        "print(\"Outside function:\", var)"
      ]
    },
    {
      "cell_type": "code",
      "execution_count": 8,
      "metadata": {
        "colab": {
          "base_uri": "https://localhost:8080/"
        },
        "id": "AjknyuRYaOwa",
        "outputId": "b1eb9ff2-bebd-4559-e9ea-8506d0aebf6b"
      },
      "outputs": [
        {
          "name": "stdout",
          "output_type": "stream",
          "text": [
            "Inside function: 20\n",
            "Outside function: 10\n"
          ]
        }
      ],
      "source": [
        "#ii.)\n",
        "# var = 20 is done in local scope as such has no influence on global var = 10\n",
        "var = 10\n",
        "def modify_var():\n",
        "    var = 20\n",
        "    print(\"Inside function:\", var)\n",
        "modify_var()\n",
        "print(\"Outside function:\", var)\n"
      ]
    },
    {
      "cell_type": "code",
      "execution_count": 19,
      "metadata": {
        "colab": {
          "base_uri": "https://localhost:8080/"
        },
        "id": "As_CGkK2aSkq",
        "outputId": "84655d4e-a734-4a5f-8e3b-85f749edc766"
      },
      "outputs": [
        {
          "data": {
            "text/plain": [
              "10"
            ]
          },
          "execution_count": 19,
          "metadata": {},
          "output_type": "execute_result"
        }
      ],
      "source": [
        "#8\n",
        "def count_python(s):\n",
        "  count=0\n",
        "  for i in s.split():\n",
        "    if \"python\"in i:\n",
        "      count+=1\n",
        "  return count\n",
        "\n",
        "\n",
        "s= \"Python is a powerful language. I started learning PYTHON last year, and since then, I've used python3, python-requests, and PythonAnywhere for various projects. Although some people confuse Python with pYtHoNic or even CPython, the core of PYTHON programming remains elegant and efficient. Interestingly, I once named a variable python_snake just for fun!\"\n",
        "\n",
        "count_python(s.lower())"
      ]
    },
    {
      "cell_type": "code",
      "execution_count": 30,
      "metadata": {
        "colab": {
          "base_uri": "https://localhost:8080/"
        },
        "id": "MHxQ-VqfdWOa",
        "outputId": "7b6dffbf-3561-454e-a342-c821345a9ef5"
      },
      "outputs": [
        {
          "name": "stdout",
          "output_type": "stream",
          "text": [
            "converted to Upper case: HELLO\n",
            "Already in Upper case: MASAI\n"
          ]
        }
      ],
      "source": [
        "#9\n",
        "def upper(s):\n",
        "  if s.isupper():\n",
        "    print(f\"Already in Upper case: {s}\")\n",
        "  else:\n",
        "    s1=s.upper()\n",
        "    print(f\"converted to Upper case: {s1}\")\n",
        "upper(\"hello\")\n",
        "upper(\"MASAI\")"
      ]
    },
    {
      "cell_type": "code",
      "execution_count": 27,
      "metadata": {
        "colab": {
          "base_uri": "https://localhost:8080/",
          "height": 35
        },
        "id": "0W0dxW7Veh0O",
        "outputId": "0f142343-32cb-4dd5-fcdc-45d67f0699f0"
      },
      "outputs": [
        {
          "data": {
            "application/vnd.google.colaboratory.intrinsic+json": {
              "type": "string"
            },
            "text/plain": [
              "'olleh'"
            ]
          },
          "execution_count": 27,
          "metadata": {},
          "output_type": "execute_result"
        }
      ],
      "source": [
        "#10\n",
        "def reverse_string(s):\n",
        "  return s[::-1]\n",
        "\n",
        "reverse_string(\"hello\")"
      ]
    },
    {
      "cell_type": "markdown",
      "metadata": {
        "id": "-5vYgx8xYLsi"
      },
      "source": []
    }
  ],
  "metadata": {
    "colab": {
      "provenance": []
    },
    "kernelspec": {
      "display_name": "Python 3",
      "name": "python3"
    },
    "language_info": {
      "name": "python"
    }
  },
  "nbformat": 4,
  "nbformat_minor": 0
}
